{
 "cells": [
  {
   "cell_type": "markdown",
   "id": "7894ee8f-caa2-42fa-a00a-a98b414c5829",
   "metadata": {},
   "source": [
    "# <center> Assignment 3: Data Preparation for Optimizing Sustainable Farming\n",
    "<center> Humberto Díaz\n",
    "<center>The University of Winnipeg\n",
    "<center>DIT 54102 AIW01: Foundations of Data Science\n",
    "<center>Instructor: Muhammad Shahin PhD.\n",
    "<center>May 9, 2025"
   ]
  },
  {
   "cell_type": "markdown",
   "id": "05017231-a03f-43a9-a744-93e47e19e491",
   "metadata": {},
   "source": [
    "# Introduction\n",
    "This notebook addresses the Data Preparation phase of the CRISP-DM methodology for the project \"Optimizing Sustainable Farming with AI-Driven Insights.\" Building on Assignment 2, we use the \"AI for Sustainable Agriculture Dataset\" (farmer_advisor_dataset.csv) and the supplementary \"Market Researcher Dataset\" (market_researcher_dataset.csv) from Kaggle. The goal is to prepare these datasets for predictive modeling to increase crop yield by 10% and reduce resource use by 15% for Manitoba farmers. Tasks include merging datasets, addressing data quality issues, feature engineering, and presenting a well-organized report with visualizations."
   ]
  },
  {
   "cell_type": "code",
   "execution_count": 1,
   "id": "47023d3a-9d95-4ed2-a042-f5705035cdc5",
   "metadata": {},
   "outputs": [],
   "source": [
    "# Import libraries\n",
    "import pandas as pd\n",
    "import numpy as np\n",
    "import matplotlib.pyplot as plt\n",
    "import seaborn as sns\n",
    "from scipy import stats"
   ]
  },
  {
   "cell_type": "markdown",
   "id": "0923d753-017a-4c3a-87bb-540aefecadbe",
   "metadata": {},
   "source": [
    "## 1. Merging Datasets\n",
    "### 1.1 Entity Relationship\n",
    "The primary dataset (farmer_advisor_dataset.csv) contains 10,000 records of farming practices (soil, weather, inputs, yield, sustainability) for crops (Wheat, Soybean, Corn, Rice). The supplementary dataset (market_researcher_dataset.csv) contains 10,000 records of market dynamics (price, demand, supply) for the same crops. The datasets are linked by the crop type:\n",
    "- **Primary Dataset**: Column `Crop_Type` (Wheat, Soybean, Corn, Rice).\n",
    "- **Supplementary Dataset**: Column `Product` (Wheat, Soybean, Corn, Rice).\n",
    " \n",
    "**Entity Relationship**: A one-to-many relationship exists where each crop type in the primary dataset can correspond to multiple market records in the supplementary dataset (e.g., multiple market price records for Wheat). For modeling, we merge on `Crop_Type` and `Product` to align farming and market data, using a left join to prioritize farming records."
   ]
  },
  {
   "cell_type": "markdown",
   "id": "8c416c8e-83b4-4843-920c-dc1a2729d9b0",
   "metadata": {},
   "source": [
    "### 1.2 Merging Process\n",
    "We rename `Product` to `Crop_Type` in the supplementary dataset for consistency and perform a left merge."
   ]
  },
  {
   "cell_type": "code",
   "execution_count": 6,
   "id": "1bd85723-05e0-4992-a0a4-a0cec48fb2bb",
   "metadata": {},
   "outputs": [],
   "source": [
    "# Load datasets\n",
    "primary_data = pd.read_csv('/Users/eleazar/Documents/Projects/f_ds/dataset/farmer_advisor_dataset.csv')\n",
    "supp_data = pd.read_csv('/Users/eleazar/Documents/Projects/f_ds/dataset/market_researcher_dataset.csv')"
   ]
  },
  {
   "cell_type": "code",
   "execution_count": 8,
   "id": "56b3121e-f9f1-41b6-8074-901811d35013",
   "metadata": {},
   "outputs": [
    {
     "data": {
      "text/html": [
       "<div>\n",
       "<style scoped>\n",
       "    .dataframe tbody tr th:only-of-type {\n",
       "        vertical-align: middle;\n",
       "    }\n",
       "\n",
       "    .dataframe tbody tr th {\n",
       "        vertical-align: top;\n",
       "    }\n",
       "\n",
       "    .dataframe thead th {\n",
       "        text-align: right;\n",
       "    }\n",
       "</style>\n",
       "<table border=\"1\" class=\"dataframe\">\n",
       "  <thead>\n",
       "    <tr style=\"text-align: right;\">\n",
       "      <th></th>\n",
       "      <th>Farm_ID</th>\n",
       "      <th>Soil_pH</th>\n",
       "      <th>Soil_Moisture</th>\n",
       "      <th>Temperature_C</th>\n",
       "      <th>Rainfall_mm</th>\n",
       "      <th>Crop_Type</th>\n",
       "      <th>Fertilizer_Usage_kg</th>\n",
       "      <th>Pesticide_Usage_kg</th>\n",
       "      <th>Crop_Yield_ton</th>\n",
       "      <th>Sustainability_Score</th>\n",
       "    </tr>\n",
       "  </thead>\n",
       "  <tbody>\n",
       "    <tr>\n",
       "      <th>0</th>\n",
       "      <td>1</td>\n",
       "      <td>7.073643</td>\n",
       "      <td>49.145359</td>\n",
       "      <td>26.668157</td>\n",
       "      <td>227.890912</td>\n",
       "      <td>Wheat</td>\n",
       "      <td>131.692844</td>\n",
       "      <td>2.958215</td>\n",
       "      <td>1.576920</td>\n",
       "      <td>51.913649</td>\n",
       "    </tr>\n",
       "    <tr>\n",
       "      <th>1</th>\n",
       "      <td>2</td>\n",
       "      <td>6.236931</td>\n",
       "      <td>21.496115</td>\n",
       "      <td>29.325342</td>\n",
       "      <td>244.017493</td>\n",
       "      <td>Soybean</td>\n",
       "      <td>136.370492</td>\n",
       "      <td>19.204770</td>\n",
       "      <td>3.824686</td>\n",
       "      <td>47.159077</td>\n",
       "    </tr>\n",
       "    <tr>\n",
       "      <th>2</th>\n",
       "      <td>3</td>\n",
       "      <td>5.922335</td>\n",
       "      <td>19.469042</td>\n",
       "      <td>17.666414</td>\n",
       "      <td>141.110521</td>\n",
       "      <td>Corn</td>\n",
       "      <td>99.725210</td>\n",
       "      <td>11.041066</td>\n",
       "      <td>1.133198</td>\n",
       "      <td>50.148418</td>\n",
       "    </tr>\n",
       "    <tr>\n",
       "      <th>3</th>\n",
       "      <td>4</td>\n",
       "      <td>6.845120</td>\n",
       "      <td>27.974234</td>\n",
       "      <td>17.188722</td>\n",
       "      <td>156.785663</td>\n",
       "      <td>Wheat</td>\n",
       "      <td>194.832396</td>\n",
       "      <td>8.806271</td>\n",
       "      <td>8.870540</td>\n",
       "      <td>89.764557</td>\n",
       "    </tr>\n",
       "    <tr>\n",
       "      <th>4</th>\n",
       "      <td>5</td>\n",
       "      <td>6.934171</td>\n",
       "      <td>33.637679</td>\n",
       "      <td>23.603899</td>\n",
       "      <td>77.859362</td>\n",
       "      <td>Corn</td>\n",
       "      <td>57.271267</td>\n",
       "      <td>3.747553</td>\n",
       "      <td>8.779317</td>\n",
       "      <td>51.033941</td>\n",
       "    </tr>\n",
       "  </tbody>\n",
       "</table>\n",
       "</div>"
      ],
      "text/plain": [
       "   Farm_ID   Soil_pH  Soil_Moisture  Temperature_C  Rainfall_mm Crop_Type  \\\n",
       "0        1  7.073643      49.145359      26.668157   227.890912     Wheat   \n",
       "1        2  6.236931      21.496115      29.325342   244.017493   Soybean   \n",
       "2        3  5.922335      19.469042      17.666414   141.110521      Corn   \n",
       "3        4  6.845120      27.974234      17.188722   156.785663     Wheat   \n",
       "4        5  6.934171      33.637679      23.603899    77.859362      Corn   \n",
       "\n",
       "   Fertilizer_Usage_kg  Pesticide_Usage_kg  Crop_Yield_ton  \\\n",
       "0           131.692844            2.958215        1.576920   \n",
       "1           136.370492           19.204770        3.824686   \n",
       "2            99.725210           11.041066        1.133198   \n",
       "3           194.832396            8.806271        8.870540   \n",
       "4            57.271267            3.747553        8.779317   \n",
       "\n",
       "   Sustainability_Score  \n",
       "0             51.913649  \n",
       "1             47.159077  \n",
       "2             50.148418  \n",
       "3             89.764557  \n",
       "4             51.033941  "
      ]
     },
     "execution_count": 8,
     "metadata": {},
     "output_type": "execute_result"
    }
   ],
   "source": [
    "# Show the first 5 rows of primmary_data dataframe\n",
    "primary_data.head()"
   ]
  },
  {
   "cell_type": "code",
   "execution_count": 9,
   "id": "4df8dc55-f3bc-4bc6-bc13-5b68be56473b",
   "metadata": {},
   "outputs": [
    {
     "data": {
      "text/html": [
       "<div>\n",
       "<style scoped>\n",
       "    .dataframe tbody tr th:only-of-type {\n",
       "        vertical-align: middle;\n",
       "    }\n",
       "\n",
       "    .dataframe tbody tr th {\n",
       "        vertical-align: top;\n",
       "    }\n",
       "\n",
       "    .dataframe thead th {\n",
       "        text-align: right;\n",
       "    }\n",
       "</style>\n",
       "<table border=\"1\" class=\"dataframe\">\n",
       "  <thead>\n",
       "    <tr style=\"text-align: right;\">\n",
       "      <th></th>\n",
       "      <th>Market_ID</th>\n",
       "      <th>Product</th>\n",
       "      <th>Market_Price_per_ton</th>\n",
       "      <th>Demand_Index</th>\n",
       "      <th>Supply_Index</th>\n",
       "      <th>Competitor_Price_per_ton</th>\n",
       "      <th>Economic_Indicator</th>\n",
       "      <th>Weather_Impact_Score</th>\n",
       "      <th>Seasonal_Factor</th>\n",
       "      <th>Consumer_Trend_Index</th>\n",
       "    </tr>\n",
       "  </thead>\n",
       "  <tbody>\n",
       "    <tr>\n",
       "      <th>0</th>\n",
       "      <td>1</td>\n",
       "      <td>Rice</td>\n",
       "      <td>180.251212</td>\n",
       "      <td>196.085900</td>\n",
       "      <td>199.509124</td>\n",
       "      <td>300.549219</td>\n",
       "      <td>1.093636</td>\n",
       "      <td>28.474810</td>\n",
       "      <td>Medium</td>\n",
       "      <td>148.472131</td>\n",
       "    </tr>\n",
       "    <tr>\n",
       "      <th>1</th>\n",
       "      <td>2</td>\n",
       "      <td>Rice</td>\n",
       "      <td>420.527970</td>\n",
       "      <td>188.452400</td>\n",
       "      <td>150.789483</td>\n",
       "      <td>492.097798</td>\n",
       "      <td>0.526307</td>\n",
       "      <td>70.978063</td>\n",
       "      <td>High</td>\n",
       "      <td>97.298888</td>\n",
       "    </tr>\n",
       "    <tr>\n",
       "      <th>2</th>\n",
       "      <td>3</td>\n",
       "      <td>Wheat</td>\n",
       "      <td>457.260398</td>\n",
       "      <td>171.179384</td>\n",
       "      <td>78.989326</td>\n",
       "      <td>323.003342</td>\n",
       "      <td>1.292393</td>\n",
       "      <td>80.853592</td>\n",
       "      <td>Low</td>\n",
       "      <td>131.113236</td>\n",
       "    </tr>\n",
       "    <tr>\n",
       "      <th>3</th>\n",
       "      <td>4</td>\n",
       "      <td>Soybean</td>\n",
       "      <td>237.179113</td>\n",
       "      <td>196.970677</td>\n",
       "      <td>50.464363</td>\n",
       "      <td>232.978384</td>\n",
       "      <td>0.627663</td>\n",
       "      <td>60.676069</td>\n",
       "      <td>Low</td>\n",
       "      <td>95.169417</td>\n",
       "    </tr>\n",
       "    <tr>\n",
       "      <th>4</th>\n",
       "      <td>5</td>\n",
       "      <td>Wheat</td>\n",
       "      <td>324.032925</td>\n",
       "      <td>113.165416</td>\n",
       "      <td>145.878647</td>\n",
       "      <td>312.428652</td>\n",
       "      <td>1.491255</td>\n",
       "      <td>45.379516</td>\n",
       "      <td>Low</td>\n",
       "      <td>130.297138</td>\n",
       "    </tr>\n",
       "  </tbody>\n",
       "</table>\n",
       "</div>"
      ],
      "text/plain": [
       "   Market_ID  Product  Market_Price_per_ton  Demand_Index  Supply_Index  \\\n",
       "0          1     Rice            180.251212    196.085900    199.509124   \n",
       "1          2     Rice            420.527970    188.452400    150.789483   \n",
       "2          3    Wheat            457.260398    171.179384     78.989326   \n",
       "3          4  Soybean            237.179113    196.970677     50.464363   \n",
       "4          5    Wheat            324.032925    113.165416    145.878647   \n",
       "\n",
       "   Competitor_Price_per_ton  Economic_Indicator  Weather_Impact_Score  \\\n",
       "0                300.549219            1.093636             28.474810   \n",
       "1                492.097798            0.526307             70.978063   \n",
       "2                323.003342            1.292393             80.853592   \n",
       "3                232.978384            0.627663             60.676069   \n",
       "4                312.428652            1.491255             45.379516   \n",
       "\n",
       "  Seasonal_Factor  Consumer_Trend_Index  \n",
       "0          Medium            148.472131  \n",
       "1            High             97.298888  \n",
       "2             Low            131.113236  \n",
       "3             Low             95.169417  \n",
       "4             Low            130.297138  "
      ]
     },
     "execution_count": 9,
     "metadata": {},
     "output_type": "execute_result"
    }
   ],
   "source": [
    "# Show the first 5 rows of supp_data dataframe\n",
    "supp_data.head()"
   ]
  },
  {
   "cell_type": "code",
   "execution_count": 10,
   "id": "9ece5efa-9916-4630-b45a-919357936f52",
   "metadata": {},
   "outputs": [],
   "source": [
    "# Rename Product to Crop_Type for merging\n",
    "supp_data = supp_data.rename(columns={'Product': 'Crop_Type'})"
   ]
  },
  {
   "cell_type": "code",
   "execution_count": 14,
   "id": "798844ad-0278-4e80-aafd-bfc58aaa304e",
   "metadata": {},
   "outputs": [
    {
     "name": "stdout",
     "output_type": "stream",
     "text": [
      "<class 'pandas.core.frame.DataFrame'>\n",
      "RangeIndex: 10000 entries, 0 to 9999\n",
      "Data columns (total 10 columns):\n",
      " #   Column                    Non-Null Count  Dtype  \n",
      "---  ------                    --------------  -----  \n",
      " 0   Market_ID                 10000 non-null  int64  \n",
      " 1   Crop_Type                 10000 non-null  object \n",
      " 2   Market_Price_per_ton      10000 non-null  float64\n",
      " 3   Demand_Index              10000 non-null  float64\n",
      " 4   Supply_Index              10000 non-null  float64\n",
      " 5   Competitor_Price_per_ton  10000 non-null  float64\n",
      " 6   Economic_Indicator        10000 non-null  float64\n",
      " 7   Weather_Impact_Score      10000 non-null  float64\n",
      " 8   Seasonal_Factor           10000 non-null  object \n",
      " 9   Consumer_Trend_Index      10000 non-null  float64\n",
      "dtypes: float64(7), int64(1), object(2)\n",
      "memory usage: 781.4+ KB\n"
     ]
    }
   ],
   "source": [
    "# Verifying the change of name for the supp_data dataset\n",
    "supp_data.info()"
   ]
  },
  {
   "cell_type": "code",
   "execution_count": 15,
   "id": "8895284d-1456-40e6-98ef-90b2b150179a",
   "metadata": {},
   "outputs": [],
   "source": [
    "# Merge both datasets (primary_data and supp_data) on Crop_Type\n",
    "merged_data = pd.merge(primary_data, supp_data, on='Crop_Type', how='left')"
   ]
  },
  {
   "cell_type": "code",
   "execution_count": 17,
   "id": "c6f83d80-b87d-4a13-a471-ce79f0a3e861",
   "metadata": {},
   "outputs": [
    {
     "name": "stdout",
     "output_type": "stream",
     "text": [
      "Merged Dataset Shape: (25000330, 19)\n"
     ]
    }
   ],
   "source": [
    "# Verify merge\n",
    "print(f\"Merged Dataset Shape: {merged_data.shape}\")"
   ]
  },
  {
   "cell_type": "code",
   "execution_count": 20,
   "id": "e1753d85-aed8-4df0-b35d-cd9c63022393",
   "metadata": {},
   "outputs": [
    {
     "name": "stdout",
     "output_type": "stream",
     "text": [
      "\n",
      "First 5 Rows of Merged Dataset:\n",
      "   Farm_ID   Soil_pH  Soil_Moisture  Temperature_C  Rainfall_mm Crop_Type  \\\n",
      "0        1  7.073643      49.145359      26.668157   227.890912     Wheat   \n",
      "1        1  7.073643      49.145359      26.668157   227.890912     Wheat   \n",
      "2        1  7.073643      49.145359      26.668157   227.890912     Wheat   \n",
      "3        1  7.073643      49.145359      26.668157   227.890912     Wheat   \n",
      "4        1  7.073643      49.145359      26.668157   227.890912     Wheat   \n",
      "\n",
      "   Fertilizer_Usage_kg  Pesticide_Usage_kg  Crop_Yield_ton  \\\n",
      "0           131.692844            2.958215         1.57692   \n",
      "1           131.692844            2.958215         1.57692   \n",
      "2           131.692844            2.958215         1.57692   \n",
      "3           131.692844            2.958215         1.57692   \n",
      "4           131.692844            2.958215         1.57692   \n",
      "\n",
      "   Sustainability_Score  Market_ID  Market_Price_per_ton  Demand_Index  \\\n",
      "0             51.913649          3            457.260398    171.179384   \n",
      "1             51.913649          5            324.032925    113.165416   \n",
      "2             51.913649         18            278.439853     77.771899   \n",
      "3             51.913649         22            444.210223    132.459438   \n",
      "4             51.913649         24            431.803479    101.573794   \n",
      "\n",
      "   Supply_Index  Competitor_Price_per_ton  Economic_Indicator  \\\n",
      "0     78.989326                323.003342            1.292393   \n",
      "1    145.878647                312.428652            1.491255   \n",
      "2    149.189306                198.932502            1.217541   \n",
      "3     85.200979                355.180985            1.296091   \n",
      "4     62.578446                393.491000            0.889900   \n",
      "\n",
      "   Weather_Impact_Score Seasonal_Factor  Consumer_Trend_Index  \n",
      "0             80.853592             Low            131.113236  \n",
      "1             45.379516             Low            130.297138  \n",
      "2             90.511396            High            117.973240  \n",
      "3              8.891188             Low             63.848917  \n",
      "4              5.924635            High             88.920936  \n"
     ]
    }
   ],
   "source": [
    "# Show the first 5 rows of merge_data datasert\n",
    "print(\"\\nFirst 5 Rows of Merged Dataset:\")\n",
    "print(merged_data.head())"
   ]
  },
  {
   "cell_type": "markdown",
   "id": "438382a7-6102-42fd-9bb4-10596f57d3eb",
   "metadata": {},
   "source": [
    "**Observation**: The merged dataset combines farming and market data. The shape reflects additional columns from the supplementary dataset. Some columns (e.g., Market_ID) may have redundant or non-unique values due to the one-to-many relationship, which we'll address in feature engineering."
   ]
  },
  {
   "cell_type": "markdown",
   "id": "83ade8b1-90ab-4813-8025-2769e5d5d6e7",
   "metadata": {},
   "source": [
    "## 2. Data Sampling\n",
    "### 2.1 Sampling Decision\n",
    "The primary dataset has 10,000 records, and the supplementary dataset also has 10,000 records. After merging, the dataset size remains manageable for modern computational resources and predictive modeling (e.g., regression, decision trees). Sampling is not necessary because:\n",
    "- The dataset is balanced across crop types (approximately 2,500 records per crop).\n",
    "- No computational constraints exist for processing 10,000+ records.\n",
    "- Retaining all records ensures maximum information for modeling yield and resource optimization.\n",
    " \n",
    "**Conclusion**: We proceed with the full merged dataset."
   ]
  },
  {
   "cell_type": "markdown",
   "id": "bb3e1ba6-3b38-4e10-b3ca-9127a424a119",
   "metadata": {},
   "source": [
    "## 3. Data Quality Issues\n",
    "### 3.1 Missing Values\n",
    "The second phase (Data Understanding) confirmed no missing values in either dataset. Let's verify this for the merged dataset."
   ]
  },
  {
   "cell_type": "code",
   "execution_count": 21,
   "id": "a141864a-29d1-4a65-ab27-eb8bceadd1e7",
   "metadata": {},
   "outputs": [
    {
     "name": "stdout",
     "output_type": "stream",
     "text": [
      "\n",
      "Missing Values in Merged Dataset:\n",
      "Farm_ID                     0\n",
      "Soil_pH                     0\n",
      "Soil_Moisture               0\n",
      "Temperature_C               0\n",
      "Rainfall_mm                 0\n",
      "Crop_Type                   0\n",
      "Fertilizer_Usage_kg         0\n",
      "Pesticide_Usage_kg          0\n",
      "Crop_Yield_ton              0\n",
      "Sustainability_Score        0\n",
      "Market_ID                   0\n",
      "Market_Price_per_ton        0\n",
      "Demand_Index                0\n",
      "Supply_Index                0\n",
      "Competitor_Price_per_ton    0\n",
      "Economic_Indicator          0\n",
      "Weather_Impact_Score        0\n",
      "Seasonal_Factor             0\n",
      "Consumer_Trend_Index        0\n",
      "dtype: int64\n"
     ]
    }
   ],
   "source": [
    "# Verify missing values in out new dataset\n",
    "print(\"\\nMissing Values in Merged Dataset:\")\n",
    "print(merged_data.isnull().sum())"
   ]
  },
  {
   "cell_type": "markdown",
   "id": "e105de5b-de40-4df9-9525-a7cbdb5884c5",
   "metadata": {},
   "source": [
    "### 3.2 Outliers\n",
    "The second phase of the project noted potential outliers in `Crop_Yield_ton` (e.g., low yields). Let's use the Interquartile Range (IQR) method to detect and clip outliers for numerical columns: `Crop_Yield_ton`, `Fertilizer_Usage_kg`, `Pesticide_Usage_kg`."
   ]
  },
  {
   "cell_type": "code",
   "execution_count": 32,
   "id": "f45fc744-2268-4774-b55e-df64447d651c",
   "metadata": {},
   "outputs": [],
   "source": [
    "# Function to clip outliers using IQR\n",
    "def clip_outliers(df, column):\n",
    "    Q1 = df[column].quantile(0.25)\n",
    "    Q3 = df[column].quantile(0.75)\n",
    "    IQR = Q3 - Q1\n",
    "    lower_bound = Q1 - 1.5 * IQR\n",
    "    upper_bound = Q3 + 1.5 * IQR\n",
    "    df[column] = df[column].clip(lower=lower_bound, upper=upper_bound)\n",
    "    return df"
   ]
  },
  {
   "cell_type": "code",
   "execution_count": 33,
   "id": "feca3e99-23eb-4914-884c-f2af858db89f",
   "metadata": {},
   "outputs": [],
   "source": [
    "# Apply to key columns\n",
    "for col in ['Crop_Yield_ton', 'Fertilizer_Usage_kg', 'Pesticide_Usage_kg']:\n",
    "    merged_data = clip_outliers(merged_data, col)"
   ]
  },
  {
   "cell_type": "code",
   "execution_count": 34,
   "id": "7896d69a-6118-412c-9e00-1d19b20ca2cb",
   "metadata": {},
   "outputs": [
    {
     "data": {
      "image/png": "[encoded data removed]",
      "text/plain": [
       "<Figure size 1200x500 with 2 Axes>"
      ]
     },
     "metadata": {},
     "output_type": "display_data"
    }
   ],
   "source": [
    "# Visualize before and after for Crop_Yield_ton\n",
    "plt.figure(figsize=(12, 5))\n",
    "plt.subplot(1, 2, 1)\n",
    "sns.boxplot(y=primary_data['Crop_Yield_ton'])\n",
    "plt.title('Crop Yield (Before Clipping)')\n",
    "plt.subplot(1, 2, 2)\n",
    "sns.boxplot(y=merged_data['Crop_Yield_ton'])\n",
    "plt.title('Crop Yield (After Clipping)')\n",
    "plt.tight_layout()\n",
    "plt.show()"
   ]
  },
  {
   "cell_type": "markdown",
   "id": "b941c870-bf0f-4c75-a074-3d73b9477271",
   "metadata": {},
   "source": [
    "**Observation**: No missing values detected, consistent with Assignment 2 findings."
   ]
  },
  {
   "cell_type": "markdown",
   "id": "3c18875f-7e73-46d1-bc8c-c104147fa810",
   "metadata": {},
   "source": [
    "**Observation**: Outliers in `Crop_Yield_ton` (e.g., extremely low/high values) are clipped to IQR bounds, reducing skewness while preserving data integrity. Similar clipping is applied to fertilizer and pesticide usage."
   ]
  },
  {
   "cell_type": "markdown",
   "id": "334086a8-41c4-4b1c-a4b4-61e7333820c1",
   "metadata": {},
   "source": [
    "### 3.3 Categorical Encoding\n",
    "The merged dataset has two categorical columns:\n",
    "- `Crop_Type`: (Wheat, Soybean, Corn, Rice) – requires one-hot encoding for modeling.\n",
    "- `Seasonal_Factor`: (Low, Medium, High) – requires ordinal encoding due to its ordered nature.\n",
    "\n",
    "We encode these to prepare for modeling."
   ]
  },
  {
   "cell_type": "code",
   "execution_count": 35,
   "id": "080f3184-aeb1-40d3-8ccb-f0957409da2e",
   "metadata": {},
   "outputs": [],
   "source": [
    "# One-hot encoding for Crop_Type\n",
    "merged_data = pd.get_dummies(merged_data, columns=['Crop_Type'], prefix='Crop') "
   ]
  },
  {
   "cell_type": "code",
   "execution_count": 36,
   "id": "43ca317e-fedc-498f-bfa8-ade7cbb53b2d",
   "metadata": {},
   "outputs": [],
   "source": [
    "# Ordinal encoding for Seasonal_Factor\n",
    "seasonal_mapping = {'Low': 1, 'Medium': 2, 'High': 3}\n",
    "merged_data['Seasonal_Factor'] = merged_data['Seasonal_Factor'].map(seasonal_mapping)"
   ]
  },
  {
   "cell_type": "code",
   "execution_count": 37,
   "id": "8a8434f6-a166-4e5d-96e1-f70682c27f48",
   "metadata": {},
   "outputs": [
    {
     "name": "stdout",
     "output_type": "stream",
     "text": [
      "\n",
      "Columns After Encoding:\n",
      "Farm_ID                       int64\n",
      "Soil_pH                     float64\n",
      "Soil_Moisture               float64\n",
      "Temperature_C               float64\n",
      "Rainfall_mm                 float64\n",
      "Fertilizer_Usage_kg         float64\n",
      "Pesticide_Usage_kg          float64\n",
      "Crop_Yield_ton              float64\n",
      "Sustainability_Score        float64\n",
      "Market_ID                     int64\n",
      "Market_Price_per_ton        float64\n",
      "Demand_Index                float64\n",
      "Supply_Index                float64\n",
      "Competitor_Price_per_ton    float64\n",
      "Economic_Indicator          float64\n",
      "Weather_Impact_Score        float64\n",
      "Seasonal_Factor               int64\n",
      "Consumer_Trend_Index        float64\n",
      "Crop_Corn                      bool\n",
      "Crop_Rice                      bool\n",
      "Crop_Soybean                   bool\n",
      "Crop_Wheat                     bool\n",
      "dtype: object\n"
     ]
    }
   ],
   "source": [
    "print(\"\\nColumns After Encoding:\")\n",
    "print(merged_data.dtypes)"
   ]
  },
  {
   "cell_type": "markdown",
   "id": "d87828f4-98a2-40ba-8f1f-c802b09d2d49",
   "metadata": {},
   "source": [
    "**Observation**: `Crop_Type` is split into binary columns (e.g., Crop_Wheat), and `Seasonal_Factor` is mapped to numerical values (1, 2, 3), making the dataset fully numerical for modeling."
   ]
  },
  {
   "cell_type": "markdown",
   "id": "fd71ef2e-6282-4399-841a-0742699f9ca8",
   "metadata": {},
   "source": [
    "## 4. Feature Engineering\n",
    "We derive five new features to enhance predictive modeling, focusing on resource efficiency, environmental impact, and interaction effects. Each feature is explained below."
   ]
  },
  {
   "cell_type": "markdown",
   "id": "7bcce98b-402c-4965-8ee4-e60c5bcc4929",
   "metadata": {},
   "source": [
    "### 4.1 Feature 1: Yield_per_Fertilizer\n",
    "**Logic**: Measures efficiency of fertilizer use (tons of yield per kg of fertilizer). Higher values indicate better resource utilization, aligning with the goal of reducing resource use by 15%.\n",
    "merged_data['Yield_per_Fertilizer'] = merged_data['Crop_Yield_ton'] / merged_data['Fertilizer_Usage_kg']"
   ]
  },
  {
   "cell_type": "code",
   "execution_count": null,
   "id": "5d7edd33-bba4-494f-b406-82b945ee5244",
   "metadata": {},
   "outputs": [],
   "source": []
  },
  {
   "cell_type": "code",
   "execution_count": null,
   "id": "2a5200b0-f378-4dc2-b2ba-c034055cb499",
   "metadata": {},
   "outputs": [],
   "source": []
  },
  {
   "cell_type": "code",
   "execution_count": null,
   "id": "407c873b-b06a-4755-9095-7afa8a4c5374",
   "metadata": {},
   "outputs": [],
   "source": []
  },
  {
   "cell_type": "code",
   "execution_count": null,
   "id": "b265fd81-0109-4c4c-9f1c-bcc9776cb278",
   "metadata": {},
   "outputs": [],
   "source": []
  }
 ],
 "metadata": {
  "kernelspec": {
   "display_name": "Python 3 (ipykernel)",
   "language": "python",
   "name": "python3"
  },
  "language_info": {
   "codemirror_mode": {
    "name": "ipython",
    "version": 3
   },
   "file_extension": ".py",
   "mimetype": "text/x-python",
   "name": "python",
   "nbconvert_exporter": "python",
   "pygments_lexer": "ipython3",
   "version": "3.13.3"
  }
 },
 "nbformat": 4,
 "nbformat_minor": 5
}
