{
 "cells": [
  {
   "cell_type": "code",
   "execution_count": 5,
   "id": "43c8dc3d-c4b7-4220-b69c-b8610b273612",
   "metadata": {},
   "outputs": [],
   "source": [
    "# Importing necessary libraries\n",
    "import pandas as pd\n",
    "import numpy as np\n",
    "import matplotlib.pyplot as plt"
   ]
  },
  {
   "cell_type": "code",
   "execution_count": 9,
   "id": "76e02a69-e189-4824-b004-15278729ddcd",
   "metadata": {},
   "outputs": [
    {
     "name": "stdout",
     "output_type": "stream",
     "text": [
      "   Farm_ID   Soil_pH  Soil_Moisture  Temperature_C  Rainfall_mm Crop_Type  \\\n",
      "0        1  7.073643      49.145359      26.668157   227.890912     Wheat   \n",
      "1        2  6.236931      21.496115      29.325342   244.017493   Soybean   \n",
      "2        3  5.922335      19.469042      17.666414   141.110521      Corn   \n",
      "3        4  6.845120      27.974234      17.188722   156.785663     Wheat   \n",
      "4        5  6.934171      33.637679      23.603899    77.859362      Corn   \n",
      "\n",
      "   Fertilizer_Usage_kg  Pesticide_Usage_kg  Crop_Yield_ton  \\\n",
      "0           131.692844            2.958215        1.576920   \n",
      "1           136.370492           19.204770        3.824686   \n",
      "2            99.725210           11.041066        1.133198   \n",
      "3           194.832396            8.806271        8.870540   \n",
      "4            57.271267            3.747553        8.779317   \n",
      "\n",
      "   Sustainability_Score  \n",
      "0             51.913649  \n",
      "1             47.159077  \n",
      "2             50.148418  \n",
      "3             89.764557  \n",
      "4             51.033941  \n"
     ]
    }
   ],
   "source": [
    "path = '/Users/eleazar/Documents/Projects/f_ds/dataset/farmer_advisor_dataset.csv'\n",
    "df = pd.read_csv(path)\n",
    "print(df.head())"
   ]
  },
  {
   "cell_type": "code",
   "execution_count": 10,
   "id": "13b31cef-eda3-42d7-b7d1-63b0f9e55a55",
   "metadata": {},
   "outputs": [
    {
     "name": "stdout",
     "output_type": "stream",
     "text": [
      "   Market_ID  Product  Market_Price_per_ton  Demand_Index  Supply_Index  \\\n",
      "0          1     Rice            180.251212    196.085900    199.509124   \n",
      "1          2     Rice            420.527970    188.452400    150.789483   \n",
      "2          3    Wheat            457.260398    171.179384     78.989326   \n",
      "3          4  Soybean            237.179113    196.970677     50.464363   \n",
      "4          5    Wheat            324.032925    113.165416    145.878647   \n",
      "\n",
      "   Competitor_Price_per_ton  Economic_Indicator  Weather_Impact_Score  \\\n",
      "0                300.549219            1.093636             28.474810   \n",
      "1                492.097798            0.526307             70.978063   \n",
      "2                323.003342            1.292393             80.853592   \n",
      "3                232.978384            0.627663             60.676069   \n",
      "4                312.428652            1.491255             45.379516   \n",
      "\n",
      "  Seasonal_Factor  Consumer_Trend_Index  \n",
      "0          Medium            148.472131  \n",
      "1            High             97.298888  \n",
      "2             Low            131.113236  \n",
      "3             Low             95.169417  \n",
      "4             Low            130.297138  \n"
     ]
    }
   ],
   "source": [
    "path2 = '/Users/eleazar/Documents/Projects/f_ds/dataset/market_researcher_dataset.csv'\n",
    "df2 = pd.read_csv(path2)\n",
    "print(df2.head())"
   ]
  },
  {
   "cell_type": "code",
   "execution_count": null,
   "id": "3addc3a3-beff-4433-acd1-7476eadb36cb",
   "metadata": {},
   "outputs": [],
   "source": []
  }
 ],
 "metadata": {
  "kernelspec": {
   "display_name": "Python 3 (ipykernel)",
   "language": "python",
   "name": "python3"
  },
  "language_info": {
   "codemirror_mode": {
    "name": "ipython",
    "version": 3
   },
   "file_extension": ".py",
   "mimetype": "text/x-python",
   "name": "python",
   "nbconvert_exporter": "python",
   "pygments_lexer": "ipython3",
   "version": "3.13.3"
  }
 },
 "nbformat": 4,
 "nbformat_minor": 5
}
